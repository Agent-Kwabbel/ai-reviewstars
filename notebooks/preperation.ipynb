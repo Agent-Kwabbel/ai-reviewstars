{
 "cells": [
  {
   "cell_type": "code",
   "execution_count": 97,
   "id": "8bc6b866-af3f-4bdd-b289-71522950cdae",
   "metadata": {},
   "outputs": [
    {
     "name": "stdout",
     "output_type": "stream",
     "text": [
      "(379718, 2)\n"
     ]
    },
    {
     "name": "stderr",
     "output_type": "stream",
     "text": [
      "/tmp/ipykernel_55042/2207392812.py:8: DtypeWarning: Columns (10) have mixed types. Specify dtype option on import or set low_memory=False.\n",
      "  df = pd.read_csv(\"../data/raw/raw-data.csv\")\n"
     ]
    },
    {
     "data": {
      "text/html": [
       "<div>\n",
       "<style scoped>\n",
       "    .dataframe tbody tr th:only-of-type {\n",
       "        vertical-align: middle;\n",
       "    }\n",
       "\n",
       "    .dataframe tbody tr th {\n",
       "        vertical-align: top;\n",
       "    }\n",
       "\n",
       "    .dataframe thead th {\n",
       "        text-align: right;\n",
       "    }\n",
       "</style>\n",
       "<table border=\"1\" class=\"dataframe\">\n",
       "  <thead>\n",
       "    <tr style=\"text-align: right;\">\n",
       "      <th></th>\n",
       "      <th>reviewText</th>\n",
       "      <th>reviewScoreOverall</th>\n",
       "    </tr>\n",
       "  </thead>\n",
       "  <tbody>\n",
       "    <tr>\n",
       "      <th>0</th>\n",
       "      <td>Heerlijk eten en leuke sfeer. Veel keuze bij h...</td>\n",
       "      <td>9</td>\n",
       "    </tr>\n",
       "    <tr>\n",
       "      <th>1</th>\n",
       "      <td>Met z'n vieren dit restaurant bezocht. We hadd...</td>\n",
       "      <td>10</td>\n",
       "    </tr>\n",
       "    <tr>\n",
       "      <th>2</th>\n",
       "      <td>Snel gegeten tijdens een plotselinge bezoek na...</td>\n",
       "      <td>7.5</td>\n",
       "    </tr>\n",
       "  </tbody>\n",
       "</table>\n",
       "</div>"
      ],
      "text/plain": [
       "                                          reviewText reviewScoreOverall\n",
       "0  Heerlijk eten en leuke sfeer. Veel keuze bij h...                  9\n",
       "1  Met z'n vieren dit restaurant bezocht. We hadd...                 10\n",
       "2  Snel gegeten tijdens een plotselinge bezoek na...                7.5"
      ]
     },
     "execution_count": 97,
     "metadata": {},
     "output_type": "execute_result"
    }
   ],
   "source": [
    "import pandas as pd\n",
    "import numpy as np\n",
    "import re\n",
    "import matplotlib.pyplot as plt\n",
    "import seaborn as sns\n",
    "\n",
    "df = pd.read_csv(\"../data/raw/raw-data.csv\")\n",
    "\n",
    "cols_keep = [\"reviewText\", \"reviewScoreOverall\"]\n",
    "df = df[cols_keep].copy()\n",
    "\n",
    "print(df.shape)\n",
    "df.head(3)\n"
   ]
  },
  {
   "cell_type": "code",
   "execution_count": 98,
   "id": "e14c7354-fdf4-43b3-95b7-9298a96c9bd5",
   "metadata": {},
   "outputs": [],
   "source": [
    "df[\"reviewScoreOverall\"] = pd.to_numeric(df[\"reviewScoreOverall\"], errors=\"coerce\")\n",
    "\n",
    "df = df.dropna(subset=[\"reviewText\", \"reviewScoreOverall\"]).copy()\n",
    "\n",
    "df[\"reviewText\"] = df[\"reviewText\"].astype(str).str.strip()\n",
    "df = df[df[\"reviewText\"].str.len() > 5]  # minimal length filter\n"
   ]
  },
  {
   "cell_type": "code",
   "execution_count": 99,
   "id": "3a3b5fbc-9fec-4432-992b-21ab50f129bf",
   "metadata": {},
   "outputs": [],
   "source": [
    "stars = df[\"reviewScoreOverall\"] / 2.0\n",
    "\n",
    "df[\"ratingRounded\"] = np.round(stars * 2) / 2\n",
    "df[\"ratingRounded\"] = df[\"ratingRounded\"].clip(0, 5)"
   ]
  },
  {
   "cell_type": "code",
   "execution_count": 100,
   "id": "8424869a-250e-4312-81e7-68e314fc13ba",
   "metadata": {},
   "outputs": [
    {
     "name": "stdout",
     "output_type": "stream",
     "text": [
      "Alle ratings in 0,5-stappen: True\n",
      "Unieke ratings: [np.float64(0.5), np.float64(1.0), np.float64(1.5), np.float64(2.0), np.float64(2.5), np.float64(3.0), np.float64(3.5), np.float64(4.0), np.float64(4.5), np.float64(5.0)]\n"
     ]
    }
   ],
   "source": [
    "ok = ((df[\"ratingRounded\"] * 2) % 1 == 0).all()\n",
    "print(\"Alle ratings in 0,5-stappen:\", ok)\n",
    "print(\"Unieke ratings:\", sorted(df[\"ratingRounded\"].unique()))"
   ]
  },
  {
   "cell_type": "code",
   "execution_count": 101,
   "id": "fb8d61bd-fab4-4525-80fb-e3e6ef73bd8c",
   "metadata": {},
   "outputs": [],
   "source": [
    "def clean_text(txt: str) -> str:\n",
    "    t = txt.lower()\n",
    "\n",
    "    t = re.sub(r\"http\\S+|www\\S+\", \"\", t)\n",
    "    t = re.sub(r\"<.*?>\", \"\", t)\n",
    "    t = re.sub(r\"[^a-zA-ZÀ-ÿ0-9.,!?%€$ ]\", \" \", t)\n",
    "\n",
    "    t = re.sub(r\"\\b(\\d+(\\.\\d+)?\\s*(van\\s+de\\s+)?sterren?)\\b\", \"\", t)\n",
    "    t = re.sub(r\"\\b(geef|gaf|geven|score|waardering|rating)\\b\", \"\", t)\n",
    "    t = re.sub(r\"\\b(vijf|vier|drie|twee|één|een|1|2|3|4|5)\\s*sterren?\\b\", \"\", t)\n",
    "\n",
    "    # reduceer spaties\n",
    "    t = re.sub(r\"\\s+\", \" \", t).strip()\n",
    "    return t\n",
    "\n",
    "df[\"reviewText_clean\"] = df[\"reviewText\"].apply(clean_text)\n"
   ]
  },
  {
   "cell_type": "code",
   "execution_count": 102,
   "id": "320886fb-2284-4d08-b59d-2b0cd2451765",
   "metadata": {},
   "outputs": [],
   "source": [
    "df = df.drop_duplicates(subset=[\"reviewText_clean\"])\n",
    "df = df[df[\"reviewText_clean\"].str.len() > 10]\n"
   ]
  },
  {
   "cell_type": "code",
   "execution_count": 103,
   "id": "2f6f83e0-1eb9-4235-80d9-fd548248e904",
   "metadata": {},
   "outputs": [
    {
     "name": "stdout",
     "output_type": "stream",
     "text": [
      "Clean dataset saved: (334305, 2)\n"
     ]
    }
   ],
   "source": [
    "df_final = df[[\"reviewText_clean\", \"ratingRounded\"]].copy()\n",
    "df_final.to_csv(\"../data/processed/processed-data.csv\", index=False)\n",
    "print(\"Clean dataset saved:\", df_final.shape)"
   ]
  }
 ],
 "metadata": {
  "kernelspec": {
   "display_name": "Python 3 (ipykernel)",
   "language": "python",
   "name": "python3"
  },
  "language_info": {
   "codemirror_mode": {
    "name": "ipython",
    "version": 3
   },
   "file_extension": ".py",
   "mimetype": "text/x-python",
   "name": "python",
   "nbconvert_exporter": "python",
   "pygments_lexer": "ipython3",
   "version": "3.13.7"
  }
 },
 "nbformat": 4,
 "nbformat_minor": 5
}
